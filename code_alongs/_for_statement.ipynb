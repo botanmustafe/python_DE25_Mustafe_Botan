{
 "cells": [
  {
   "cell_type": "markdown",
   "id": "a49d67aa",
   "metadata": {},
   "source": [
    "# Lecture 5c - for loop\n",
    "\n"
   ]
  },
  {
   "cell_type": "markdown",
   "id": "367cf746",
   "metadata": {},
   "source": [
    "* loop through the same block of codes several times\n",
    "* The number of looping times is known"
   ]
  },
  {
   "cell_type": "code",
   "execution_count": null,
   "id": "c03a40ec",
   "metadata": {},
   "outputs": [
    {
     "name": "stdout",
     "output_type": "stream",
     "text": [
      "0\n",
      "1\n",
      "2\n",
      "3\n",
      "4\n"
     ]
    }
   ],
   "source": [
    "# a simple eample\n",
    "for i in range(5): # range(n) returns numbers from 0 to n-1\n",
    "    print(1)"
   ]
  }
 ],
 "metadata": {
  "kernelspec": {
   "display_name": "Python 3",
   "language": "python",
   "name": "python3"
  },
  "language_info": {
   "codemirror_mode": {
    "name": "ipython",
    "version": 3
   },
   "file_extension": ".py",
   "mimetype": "text/x-python",
   "name": "python",
   "nbconvert_exporter": "python",
   "pygments_lexer": "ipython3",
   "version": "3.12.10"
  }
 },
 "nbformat": 4,
 "nbformat_minor": 5
}
