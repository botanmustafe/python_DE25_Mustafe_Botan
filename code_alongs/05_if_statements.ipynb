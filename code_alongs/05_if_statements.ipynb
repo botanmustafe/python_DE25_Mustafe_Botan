{
 "cells": [
  {
   "cell_type": "markdown",
   "id": "6943e45b",
   "metadata": {},
   "source": [
    "Lecture 5a - if statement \n",
    "* one way to control the flow of running the scripts\n",
    "* use if statement for controlling the flow based on conditions\n",
    "* if statements are a controll structure\n"
   ]
  },
  {
   "cell_type": "code",
   "execution_count": 1,
   "id": "e60ead21",
   "metadata": {},
   "outputs": [],
   "source": [
    "number = 5"
   ]
  },
  {
   "cell_type": "code",
   "execution_count": 2,
   "id": "b834d75e",
   "metadata": {},
   "outputs": [
    {
     "name": "stdout",
     "output_type": "stream",
     "text": [
      "It is an odd number and the value assigned to this is 5\n"
     ]
    }
   ],
   "source": [
    "#print out wether the vakue assigned to the variable, number, is odd or even\n",
    "if number % 2 == 0: # == is the equality operator\n",
    "    print(f\"If it is an even number and the value assigned to this is {number}\")\n",
    "else:\n",
    "    print(f\"It is an odd number and the value assigned to this is {number}\")"
   ]
  },
  {
   "cell_type": "markdown",
   "id": "53d8ca8b",
   "metadata": {},
   "source": [
    "Nested if statement\n",
    "\n",
    "* when we have another if statement under a scenario\n",
    "* you need to think if nested if statement produces clean codes"
   ]
  },
  {
   "cell_type": "code",
   "execution_count": 3,
   "id": "f19de18b",
   "metadata": {},
   "outputs": [
    {
     "name": "stdout",
     "output_type": "stream",
     "text": [
      "This is divisinle by 5. Check also if it is divisible by 2\n",
      "This  is an even number.\n"
     ]
    }
   ],
   "source": [
    "number = 100\n",
    "\n",
    "#if the number is divisible by 5, further check it is also divisible by 2 (even number)\n",
    "if number % 5 == 0:\n",
    "    print(\"This is divisinle by 5. Check also if it is divisible by 2\")\n",
    "    if number % 2 == 0:\n",
    "        print(\"This  is an even number.\")\n",
    "\n",
    "    else:\n",
    "        print(\"This is an odd number.\")\n",
    "else:\n",
    "    print(\"This is not divisible by 5. No need to check more.\")"
   ]
  },
  {
   "cell_type": "markdown",
   "id": "23f208a0",
   "metadata": {},
   "source": [
    "##### One line if statement\n",
    "\n",
    "* you write one line if statement, usually when refractoring your original if statement with multiple lines of codes\n",
    "* you need to think about if an one line if statement can make your code better, is it cleaner and more readable"
   ]
  },
  {
   "cell_type": "code",
   "execution_count": 10,
   "id": "2be8d556",
   "metadata": {},
   "outputs": [],
   "source": [
    "name = \"Olivia\"\n",
    "gender = \"female\"\n",
    "age = 7"
   ]
  },
  {
   "cell_type": "code",
   "execution_count": 9,
   "id": "8024fba0",
   "metadata": {},
   "outputs": [
    {
     "name": "stdout",
     "output_type": "stream",
     "text": [
      "There is no letter 0 in the name\n"
     ]
    }
   ],
   "source": [
    "if \"O\" in name:\n",
    "    print(\"There is no letter 0 in the name\")"
   ]
  },
  {
   "cell_type": "markdown",
   "id": "f0349f81",
   "metadata": {},
   "source": [
    "Group exercise\n",
    "\n",
    "Decide discounts for a customer\n",
    "Set a base price to be 10kr per apple\n",
    "Ask for user to input whether student or pensioner\n",
    "Ask for user to input the quantity of apple they buy\n",
    "Use if-statement to decide the final price with this discounts:\n",
    "30% off for student\n",
    "50% off for pensioner\n",
    "Print out a text with f-string, telling the user what is the final price\n",
    "Push the .ipynb with outputs to your remote repo\n",
    "Solve it without LLM"
   ]
  },
  {
   "cell_type": "markdown",
   "id": "4aaaf4db",
   "metadata": {},
   "source": []
  },
  {
   "cell_type": "code",
   "execution_count": 3,
   "id": "a79fff0c",
   "metadata": {},
   "outputs": [
    {
     "name": "stdout",
     "output_type": "stream",
     "text": [
      "Price for 2 apples for you as student is 14.0 kr.\n"
     ]
    }
   ],
   "source": [
    "price_of_apple = 10\n",
    "customer = input(\"Are you a student or pensioner?\")\n",
    "apple_quantity = int(input(\"How many apples do you buy?\"))\n",
    "total_price = price_of_apple * apple_quantity\n",
    "\n",
    "\n",
    "if customer == \"student\":\n",
    "    price_of_apple = price_of_apple * 0.7\n",
    "elif customer == \"pensionär\":\n",
    "    price_of_apple = price_of_apple * 0.5\n",
    "else:\n",
    "    price_of_apple = price_of_apple * 1\n",
    "total_price = price_of_apple * apple_quantity\n",
    "print(f\"Price for {apple_quantity} apples for you as {customer} is {total_price} kr.\")\n"
   ]
  }
 ],
 "metadata": {
  "kernelspec": {
   "display_name": "Python 3",
   "language": "python",
   "name": "python3"
  },
  "language_info": {
   "codemirror_mode": {
    "name": "ipython",
    "version": 3
   },
   "file_extension": ".py",
   "mimetype": "text/x-python",
   "name": "python",
   "nbconvert_exporter": "python",
   "pygments_lexer": "ipython3",
   "version": "3.12.10"
  }
 },
 "nbformat": 4,
 "nbformat_minor": 5
}
