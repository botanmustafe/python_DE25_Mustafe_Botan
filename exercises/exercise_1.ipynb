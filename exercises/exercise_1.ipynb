{
 "cells": [
  {
   "cell_type": "code",
   "execution_count": null,
   "id": "35fe8c7a",
   "metadata": {},
   "outputs": [
    {
     "name": "stdout",
     "output_type": "stream",
     "text": [
      "Hypotenusan är: 5.0\n"
     ]
    }
   ],
   "source": [
    "0. Pythagorean theorem (*)\n",
    "\n",
    "\n",
    "import math\n",
    "\n",
    "a = 3\n",
    "b = 4\n",
    "a_kvadrat = a**2\n",
    "b_kvadrat = b**2\n",
    "summa = a_kvadrat + b_kvadrat\n",
    "c = math.sqrt(summa)\n",
    "print(\"Hypotenusan är:\",c)"
   ]
  },
  {
   "cell_type": "markdown",
   "id": "51e28e5d",
   "metadata": {},
   "source": []
  },
  {
   "cell_type": "markdown",
   "id": "9676c1af",
   "metadata": {},
   "source": [
    "\" Se det som recept, inte som dikter \"\n",
    "\n",
    "När du lagar mat kollar du på receptet tills du kan göra det själv.\n",
    "\n",
    "Samma här: du slår upp formlerna och koden tills det börjar fastna.\n",
    "\n",
    "Exempel:\n",
    "\n",
    "Pythagoras = “kateter² + kateter² = hypotenusa²”.\n",
    "\n",
    "Accuracy = “antal rätt / antal totalt”.\n",
    "\n",
    "Två små recept, du behöver inte minnas hela detaljerna direkt."
   ]
  },
  {
   "cell_type": "markdown",
   "id": "2b533604",
   "metadata": {},
   "source": [
    "\n",
    "Använd import.math för mer komplicerade uträkningar\n",
    "\n",
    "a^2 + b^2 = c^2\n",
    "(5^2+b^2=7^2)\n",
    "\n",
    "\n",
    "25 + b^2 = 49\n",
    "(flytta över 25 på andra sida, omvandla +-)\n",
    "b^2 = 49 - 25 = 24\n",
    "(kvadratroten ur b^2 och 24)\n",
    "b = 4.9\n"
   ]
  },
  {
   "cell_type": "code",
   "execution_count": 6,
   "id": "6d49bbd5",
   "metadata": {},
   "outputs": [
    {
     "name": "stdout",
     "output_type": "stream",
     "text": [
      "Den andra katetern är: 4.9\n"
     ]
    }
   ],
   "source": [
    "import math\n",
    "#Kända värden\n",
    "a = 5.0\n",
    "c = 7.0\n",
    "\n",
    "a_kvadrat = a**2\n",
    "c_kvadrat = c**2\n",
    "\n",
    "b_kvadrat = c_kvadrat - a_kvadrat\n",
    "b = math.sqrt(b_kvadrat)\n",
    "b = round(b, 1)\n",
    "print(\"Den andra katetern är:\", b)\n",
    "\n",
    "\n"
   ]
  },
  {
   "cell_type": "markdown",
   "id": "6606f87c",
   "metadata": {},
   "source": [
    "1. Classification accuracy (*)\n",
    "\n",
    "A machine learning algorithm has been trained to predict whether or not it would rain the next day. Out of 365 predictions, it got 300 correct, compute the accuracy of this model.\n",
    "\n",
    "Accuracy = antal rätt/ antal totalt\n",
    "\n",
    "\n",
    "1. Accuracy =300   2. 300 = 0,8219   3. 0,8219 = 82,2%\n",
    "            _____    _____\n",
    "             365      365"
   ]
  },
  {
   "cell_type": "code",
   "execution_count": 7,
   "id": "6ef39cb0",
   "metadata": {},
   "outputs": [
    {
     "name": "stdout",
     "output_type": "stream",
     "text": [
      "accuracy är: 82.2 %\n"
     ]
    }
   ],
   "source": [
    "antal_rätt = 300\n",
    "antal_totalt = 365\n",
    "\n",
    "accuracy = antal_rätt / antal_totalt\n",
    "accuracy_procent = accuracy * 100\n",
    "accuracy_procent = round(accuracy_procent, 1)\n",
    "print(\"accuracy är:\", accuracy_procent, \"%\")\n"
   ]
  },
  {
   "cell_type": "markdown",
   "id": "4a533ca2",
   "metadata": {},
   "source": [
    "2. Classification accuracy (*)"
   ]
  },
  {
   "cell_type": "code",
   "execution_count": 16,
   "id": "d15ea961",
   "metadata": {},
   "outputs": [
    {
     "name": "stdout",
     "output_type": "stream",
     "text": [
      "accuracy är 98.7 %\n"
     ]
    }
   ],
   "source": [
    "tp = 2 # True positives - antal gånger modellen gissade rätt på brand\n",
    "tn = 985 # True negative - antal gånger modellen gissade rätt på att det ej var brand\n",
    "fp = 2  # False positive - antal gånger modellen gissade fel på att det var brand men de var inte brand\n",
    "fn = 11 # False negative - antal gånger modellen gissade fel på att det var brand men det var brand\n",
    "\n",
    "accuracy = (tp + tn) / (tp + tn + fp + fn)\n",
    "print (\"accuracy är\", accuracy*100,\"%\")"
   ]
  },
  {
   "cell_type": "markdown",
   "id": "a4245962",
   "metadata": {},
   "source": [
    "3. File metadata - format print (*)\n",
    "There is a file with the following metadata:\n",
    "\n",
    "name: orders_data.csv\n",
    "file size: 3.14mb\n",
    "modified 2024\n",
    "Create variables for each of them and print out the following to the screen\n",
    "\n",
    "=== File metadata ===\n",
    "Filename: sales_data.csv\n",
    "Size (MB): 24.7\n",
    "Last Modified Year: 2023"
   ]
  },
  {
   "cell_type": "code",
   "execution_count": 22,
   "id": "377b1682",
   "metadata": {},
   "outputs": [
    {
     "name": "stdout",
     "output_type": "stream",
     "text": [
      "=== File metadata ===\n",
      "Filename: sales_data.csv\n",
      "Size (MB: 24.7\n",
      "Last Modified Year: 2023\n"
     ]
    }
   ],
   "source": [
    "filename = \"sales_data.csv\" #Skapa variablar av datan (Glöm ej \"\" tecken när det är text)\n",
    "size_mb = 24.7 #Skapa variabel\n",
    "last_modified_year = 2023 #Skapa variabel\n",
    "\n",
    "print(\"=== File metadata ===\") #Skriv ut rubriken med print\n",
    "print(\"Filename:\", filename)  #Skriv ut Rubrik samt variabel i samma sträng - glöm ej komma-tecken sedan variabel inom parantes\n",
    "print(\"Size (MB:\", size_mb)   #Skriv ut Rubrik samt variabel i samma sträng - glöm ej komma-tecken sedan variabel inom parantes\n",
    "print(\"Last Modified Year:\", last_modified_year)  #Skriv ut Rubrik samt variabel i samma sträng - glöm ej komma-tecken sedan variabel inom parantes"
   ]
  },
  {
   "cell_type": "markdown",
   "id": "c570b386",
   "metadata": {},
   "source": [
    "4. Unit converter - inch to cm (*)\n",
    "Screen sizes are defined using inches for example my computer has 15'' and it corresponds to the diagonal of the screen. Let the user type in a value in inches and output the result in centimeters."
   ]
  },
  {
   "cell_type": "code",
   "execution_count": null,
   "id": "673e433e",
   "metadata": {},
   "outputs": [],
   "source": [
    "#1cm*2.54 = 1 inch\n",
    "\n",
    "värde = input(\"Ange värde i inch\")\n",
    "print(\"värde\")\n"
   ]
  },
  {
   "cell_type": "markdown",
   "id": "f95cadd6",
   "metadata": {},
   "source": []
  }
 ],
 "metadata": {
  "kernelspec": {
   "display_name": "Python 3",
   "language": "python",
   "name": "python3"
  },
  "language_info": {
   "codemirror_mode": {
    "name": "ipython",
    "version": 3
   },
   "file_extension": ".py",
   "mimetype": "text/x-python",
   "name": "python",
   "nbconvert_exporter": "python",
   "pygments_lexer": "ipython3",
   "version": "3.12.10"
  }
 },
 "nbformat": 4,
 "nbformat_minor": 5
}
